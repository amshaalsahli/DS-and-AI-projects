{
 "cells": [
  {
   "cell_type": "markdown",
   "id": "2e5ac41a-1f78-441c-9963-9c9aa4d5a7db",
   "metadata": {},
   "source": [
    "# project 1.1"
   ]
  },
  {
   "cell_type": "markdown",
   "id": "8cbcc4b0-e959-46d8-a1d9-1f8caa235ec8",
   "metadata": {},
   "source": [
    "we will go through the steps of creating a phone book program using Python.\n",
    "\n",
    "Before we start coding, let’s define what a phone book is. A phone book is a directory used to store and manage a list of names and phone numbers. In our program, we will create a phone book that allows users to add, search, and delete entries."
   ]
  },
  {
   "cell_type": "markdown",
   "id": "82a4a31d-0abc-46cb-a1df-ef46ca4f9f2a",
   "metadata": {},
   "source": [
    "in this code we using: list, for loop, input funcation"
   ]
  },
  {
   "cell_type": "code",
   "execution_count": 1,
   "id": "d0753e92-fbec-4f5d-93f5-aa6eef8bdc40",
   "metadata": {},
   "outputs": [
    {
     "name": "stdin",
     "output_type": "stream",
     "text": [
      "Name:  amal \n",
      "Phone Number:  999999999999\n",
      "Name:  abdullah\n",
      "Phone Number:  05555559\n",
      "Name:  nora\n",
      "Phone Number:  0554999999\n"
     ]
    },
    {
     "name": "stdout",
     "output_type": "stream",
     "text": [
      "\n",
      "Name\t\t\tPhone Number\n",
      "\n",
      "amal \t\t\t999999999999\n",
      "abdullah\t\t\t05555559\n",
      "nora\t\t\t0554999999\n"
     ]
    },
    {
     "name": "stdin",
     "output_type": "stream",
     "text": [
      "\n",
      "Enter search term:  fisal\n"
     ]
    },
    {
     "name": "stdout",
     "output_type": "stream",
     "text": [
      "Search result:\n",
      "Name Not Found\n"
     ]
    }
   ],
   "source": [
    "names = []\n",
    "phone_numbers = []\n",
    "num = 3\n",
    "\n",
    "\n",
    "for i in range(num):\n",
    "    name = input(\"Name: \")\n",
    "    phone_number = input(\"Phone Number: \") # for convert to int => int(input(\"Phone Number: \"))\n",
    "\n",
    "    names.append(name)\n",
    "    phone_numbers.append(phone_number)\n",
    "\n",
    "print(\"\\nName\\t\\t\\tPhone Number\\n\")\n",
    "\n",
    "for i in range(num):\n",
    "    print(\"{}\\t\\t\\t{}\".format(names[i], phone_numbers[i]))\n",
    "\n",
    "search_term = input(\"\\nEnter search term: \")\n",
    "\n",
    "print(\"Search result:\")\n",
    "\n",
    "if search_term in names:\n",
    "    index = names.index(search_term)\n",
    "    phone_number = phone_numbers[index]\n",
    "    print(\"Name: {}, Phone Number: {}\".format(search_term, phone_number))\n",
    "\n",
    "else:\n",
    "    print(\"Name Not Found\")"
   ]
  },
  {
   "cell_type": "markdown",
   "id": "59ace3da-e279-4962-a249-7bffbac958c4",
   "metadata": {},
   "source": [
    "# project 1.2"
   ]
  },
  {
   "cell_type": "markdown",
   "id": "6fb2ffc5-8308-4223-a8ac-6d00f84e7c55",
   "metadata": {},
   "source": [
    "## in this project i'm using the object and class to sell the bike in this code i use def __int__ funcation to define the attributes and make object and insert values in the object"
   ]
  },
  {
   "cell_type": "code",
   "execution_count": 14,
   "id": "f329417b-c95e-441d-8cd9-a1ff8f2add67",
   "metadata": {},
   "outputs": [
    {
     "name": "stdout",
     "output_type": "stream",
     "text": [
      "This bike is Univega Alpina.Orang it cost my alot maybe or: 100 and i sold it about:  500 the condition is 0.5\n"
     ]
    }
   ],
   "source": [
    "class Bike():\n",
    "    def __init__(self,description, cost, sale, condition):\n",
    "        self.description=description\n",
    "        self.cost= cost\n",
    "        self.sale= sale\n",
    "        self.condition=condition\n",
    "        def sell():\n",
    "            print('This bike is',self.description)\n",
    "            \n",
    "bike1=Bike('Univega Alpina.Orang',100, 500,0.5) \n",
    "print('This bike is',bike1.description,'it cost my alot maybe or:',bike1.cost, 'and i sold it about: ',bike1.sale, 'the condition is',bike1.condition)"
   ]
  },
  {
   "cell_type": "code",
   "execution_count": null,
   "id": "28d98298-0349-4d99-a973-4dc30d27f609",
   "metadata": {},
   "outputs": [],
   "source": []
  }
 ],
 "metadata": {
  "kernelspec": {
   "display_name": "Python 3 (ipykernel)",
   "language": "python",
   "name": "python3"
  },
  "language_info": {
   "codemirror_mode": {
    "name": "ipython",
    "version": 3
   },
   "file_extension": ".py",
   "mimetype": "text/x-python",
   "name": "python",
   "nbconvert_exporter": "python",
   "pygments_lexer": "ipython3",
   "version": "3.9.12"
  }
 },
 "nbformat": 4,
 "nbformat_minor": 5
}
